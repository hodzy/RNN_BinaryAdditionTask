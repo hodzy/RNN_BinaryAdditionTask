{
 "cells": [
  {
   "cell_type": "markdown",
   "metadata": {},
   "source": [
    "# Building a RNN model from scratch\n",
    "In this task, I'm going to build a recurrent neural network from scratch using only numpy for calculation and matplotlib for plotting. "
   ]
  },
  {
   "cell_type": "code",
   "execution_count": 1,
   "metadata": {},
   "outputs": [],
   "source": [
    "# import the packages that I need\n",
    "import numpy as np\n",
    "import matplotlib.pyplot as plt"
   ]
  },
  {
   "cell_type": "markdown",
   "metadata": {},
   "source": [
    "# Two Functions needed for this task\n",
    "When we do the backpropagation through time (BPTT), which is the most important thing in RNN tasks, we have to calculate the gradient. Because I chose sigmoid function as my activation function, it is much better that we define the sigmoid function itself and its derivative function."
   ]
  },
  {
   "cell_type": "code",
   "execution_count": 2,
   "metadata": {},
   "outputs": [],
   "source": [
    "# sigmoid function and its derivative \n",
    "def sigmoid(x):\n",
    "    output = 1/(1+np.exp(-x))\n",
    "    return output\n",
    "\n",
    "def sigmoid_derivative(output):\n",
    "    return output*(1-output)"
   ]
  },
  {
   "cell_type": "markdown",
   "metadata": {},
   "source": [
    "# Generate a lookup table for number to binary code\n",
    "Before building the RNN model, let's generate our training data, that is the binary code of every number. Thanks for the built-in function of numpy, the 'np.unpackbits' function can help us deal with this problem : )"
   ]
  },
  {
   "cell_type": "code",
   "execution_count": 3,
   "metadata": {},
   "outputs": [],
   "source": [
    "# let the randomization different every time\n",
    "a = np.random.randint(1,100)\n",
    "np.random.seed(a)\n",
    "\n",
    "# training dataset generation\n",
    "int2binary = {}\n",
    "binary_dim = 8\n",
    "\n",
    "largest_number = pow(2,binary_dim)\n",
    "binary = np.unpackbits(np.array([range(largest_number)],dtype=np.uint8).T,axis=1)\n",
    "for i in range(largest_number):\n",
    "    int2binary[i] = binary[i]"
   ]
  },
  {
   "cell_type": "code",
   "execution_count": 4,
   "metadata": {},
   "outputs": [
    {
     "data": {
      "text/plain": [
       "array([0, 0, 0, 1, 0, 0, 0, 1], dtype=uint8)"
      ]
     },
     "execution_count": 4,
     "metadata": {},
     "output_type": "execute_result"
    }
   ],
   "source": [
    "int2binary[17]"
   ]
  },
  {
   "cell_type": "markdown",
   "metadata": {},
   "source": [
    "# Hyperparameters and Weights initialization\n",
    "The following instance are the hyperparameters, including epoch, learning rate, input dimension, hidden dimension and output dimension. Because our task is binary addition (say, A + B = C) , and we want the model to see just one single digit from A and B at one time. Thus the input dimension is 2 (one from the A, and the other from B). The hidden dimension is randomly set to be 16. Lastly, the output dimension is 1. \n",
    "\n",
    "\n",
    "# The three weights matter in this task !!!\n",
    "1. The weight from input layer to hidden layer is called W_inputtohidden, which the shape is (2,16)\n",
    "2. The weight from hidden layer to output layer is called W_hiddenToOutput, which the shape is (16,1)\n",
    "3. The weight from hidden layer to hidden layer is called W_hiddentohidden, which the shape is (16,16)"
   ]
  },
  {
   "cell_type": "code",
   "execution_count": 5,
   "metadata": {},
   "outputs": [],
   "source": [
    "# hyperparameters\n",
    "epoch = 20000\n",
    "lr = 0.1\n",
    "input_dim = 2\n",
    "hidden_dim = 16\n",
    "output_dim = 1\n",
    "\n",
    "# initialize neural network weights\n",
    "W_inputtohidden = 2*np.random.random((input_dim,hidden_dim)) - 1\n",
    "W_hiddenToOutput = 2*np.random.random((hidden_dim,output_dim)) - 1\n",
    "W_hiddenTohidden = 2*np.random.random((hidden_dim,hidden_dim)) - 1\n",
    "\n",
    "# generate 3 lists to store the upcoming gradients\n",
    "W_inputtohidden_update = np.zeros_like(W_inputtohidden)\n",
    "W_hiddenToOutput_update = np.zeros_like(W_hiddenToOutput)\n",
    "W_hiddenTohidden_update = np.zeros_like(W_hiddenTohidden)"
   ]
  },
  {
   "cell_type": "markdown",
   "metadata": {},
   "source": [
    "# Training\n",
    "\n",
    "Because the binary dimension is 8, so there are 8 positions in every binary code of numbers. For example the binary code of 2 is [0,0,0,0,0,0,1,0], and binary code of 15 is [0,0,0,0,1,1,1,1], and so on. Let's assume that we want to do the addition of 2 and 15. We hope that the machine is fed with two digits in one time, one is from the binary code of 2, and the other one is from the binary code of 15 (both from right to left) For instance, the first time, the machine is fed with array(0,1), and then (1,1), (0,1), (0,1), (0,0), (0,0), (0,0), and (0,0). We hope that the output is [0,0,0,1,0,0,0,1].\n",
    "\n",
    "# Back Propagation Through Time (BPTT)\n",
    "The core of this task is the Back Propagation Through Time (BPTT). The mathematical derivation is written in this article (https://medium.com/@vincent831106/recurrent-neural-network-from-scratch-binary-addition-task-55ea0fa771d1)"
   ]
  },
  {
   "cell_type": "code",
   "execution_count": 6,
   "metadata": {},
   "outputs": [
    {
     "name": "stdout",
     "output_type": "stream",
     "text": [
      "epoch 0\n",
      "Pred: [0 0 0 0 0 0 0 0]\n",
      "True: [0 1 1 1 1 0 0 0]\n",
      "65  +  55  =  0\n",
      "Error: 50.0\n",
      "accuracy = 50.0 %\n",
      "------------\n",
      "epoch 1000\n",
      "Pred: [1 1 1 0 0 0 1 0]\n",
      "True: [1 1 1 0 0 1 0 0]\n",
      "115  +  113  =  226\n",
      "Error: 25.0\n",
      "accuracy = 75.0 %\n",
      "------------\n",
      "epoch 2000\n",
      "Pred: [1 1 1 1 1 1 1 1]\n",
      "True: [0 1 1 0 1 1 1 1]\n",
      "50  +  61  =  255\n",
      "Error: 25.0\n",
      "accuracy = 75.0 %\n",
      "------------\n",
      "epoch 3000\n",
      "Pred: [0 0 0 1 1 1 1 0]\n",
      "True: [0 0 0 1 1 1 1 1]\n",
      "25  +  6  =  30\n",
      "Error: 12.5\n",
      "accuracy = 87.5 %\n",
      "------------\n",
      "epoch 4000\n",
      "Pred: [0 0 0 1 1 0 1 0]\n",
      "True: [0 0 1 0 1 0 1 0]\n",
      "29  +  13  =  26\n",
      "Error: 25.0\n",
      "accuracy = 75.0 %\n",
      "------------\n",
      "epoch 5000\n",
      "Pred: [0 1 1 1 1 0 0 0]\n",
      "True: [0 1 1 1 1 0 0 0]\n",
      "108  +  12  =  120\n",
      "Error: 0.0\n",
      "accuracy = 100.0 %\n",
      "------------\n",
      "epoch 6000\n",
      "Pred: [1 1 0 1 0 0 1 0]\n",
      "True: [1 1 0 1 0 0 1 0]\n",
      "125  +  85  =  210\n",
      "Error: 0.0\n",
      "accuracy = 100.0 %\n",
      "------------\n",
      "epoch 7000\n",
      "Pred: [0 1 0 0 0 1 1 0]\n",
      "True: [0 1 0 0 0 1 1 0]\n",
      "17  +  53  =  70\n",
      "Error: 0.0\n",
      "accuracy = 100.0 %\n",
      "------------\n",
      "epoch 8000\n",
      "Pred: [1 0 1 0 1 1 1 1]\n",
      "True: [1 0 1 0 1 1 1 1]\n",
      "54  +  121  =  175\n",
      "Error: 0.0\n",
      "accuracy = 100.0 %\n",
      "------------\n",
      "epoch 9000\n",
      "Pred: [1 1 0 0 1 1 1 0]\n",
      "True: [1 1 0 0 1 1 1 0]\n",
      "87  +  119  =  206\n",
      "Error: 0.0\n",
      "accuracy = 100.0 %\n",
      "------------\n",
      "epoch 10000\n",
      "Pred: [1 0 0 1 0 1 1 1]\n",
      "True: [1 0 0 1 0 1 1 1]\n",
      "26  +  125  =  151\n",
      "Error: 0.0\n",
      "accuracy = 100.0 %\n",
      "------------\n",
      "epoch 11000\n",
      "Pred: [0 0 1 0 0 1 1 1]\n",
      "True: [0 0 1 0 0 1 1 1]\n",
      "8  +  31  =  39\n",
      "Error: 0.0\n",
      "accuracy = 100.0 %\n",
      "------------\n",
      "epoch 12000\n",
      "Pred: [0 1 1 1 1 0 1 1]\n",
      "True: [0 1 1 1 1 0 1 1]\n",
      "35  +  88  =  123\n",
      "Error: 0.0\n",
      "accuracy = 100.0 %\n",
      "------------\n",
      "epoch 13000\n",
      "Pred: [0 0 1 0 1 1 1 0]\n",
      "True: [0 0 1 0 1 1 1 0]\n",
      "16  +  30  =  46\n",
      "Error: 0.0\n",
      "accuracy = 100.0 %\n",
      "------------\n",
      "epoch 14000\n",
      "Pred: [0 1 0 0 0 0 1 0]\n",
      "True: [0 1 0 0 0 0 1 0]\n",
      "34  +  32  =  66\n",
      "Error: 0.0\n",
      "accuracy = 100.0 %\n",
      "------------\n",
      "epoch 15000\n",
      "Pred: [0 1 0 1 1 1 0 1]\n",
      "True: [0 1 0 1 1 1 0 1]\n",
      "42  +  51  =  93\n",
      "Error: 0.0\n",
      "accuracy = 100.0 %\n",
      "------------\n",
      "epoch 16000\n",
      "Pred: [0 0 1 1 1 1 0 0]\n",
      "True: [0 0 1 1 1 1 0 0]\n",
      "53  +  7  =  60\n",
      "Error: 0.0\n",
      "accuracy = 100.0 %\n",
      "------------\n",
      "epoch 17000\n",
      "Pred: [1 0 0 0 1 1 1 0]\n",
      "True: [1 0 0 0 1 1 1 0]\n",
      "103  +  39  =  142\n",
      "Error: 0.0\n",
      "accuracy = 100.0 %\n",
      "------------\n",
      "epoch 18000\n",
      "Pred: [0 0 1 0 1 0 1 0]\n",
      "True: [0 0 1 0 1 0 1 0]\n",
      "4  +  38  =  42\n",
      "Error: 0.0\n",
      "accuracy = 100.0 %\n",
      "------------\n",
      "epoch 19000\n",
      "Pred: [0 1 1 0 1 0 1 0]\n",
      "True: [0 1 1 0 1 0 1 0]\n",
      "36  +  70  =  106\n",
      "Error: 0.0\n",
      "accuracy = 100.0 %\n",
      "------------\n"
     ]
    }
   ],
   "source": [
    "allError=[]\n",
    "Acc = []\n",
    "# training logic\n",
    "for j in range(epoch):\n",
    "    # generate a simple addition problem (a + b = c)\n",
    "    a_int = np.random.randint(largest_number/2) # int version\n",
    "    a = int2binary[a_int] # binary version of a\n",
    "    b_int = np.random.randint(largest_number/2) # int version\n",
    "    b = int2binary[b_int] # binary verions of b\n",
    "\n",
    "    # true answer\n",
    "    c_int = a_int + b_int # int version of c\n",
    "    c = int2binary[c_int] # binary version of c\n",
    "\n",
    "    # i generate an array d for the best answer given by the machine (binary version)\n",
    "    d = np.zeros_like(c)\n",
    "    overallError = 0\n",
    "    \n",
    "\n",
    "    outputlayer_deltas = list()\n",
    "    hidden_values = list()\n",
    "    hidden_values.append(np.zeros(hidden_dim))\n",
    "\n",
    "    # moving along the positions in the binary encoding\n",
    "    for position in range(binary_dim):\n",
    "        # generate input and output\n",
    "        X = np.array([[a[binary_dim - position - 1],b[binary_dim - position - 1]]]) # move from right to left\n",
    "        y = np.array([[c[binary_dim - position - 1]]]).T # true answer, from right to leftl as well\n",
    "        \n",
    "        # forward propagation\n",
    "        hidden = sigmoid(np.dot(X,W_inputtohidden) + np.dot(hidden_values[-1],W_hiddenTohidden))\n",
    "        # output layer (new binary representation)\n",
    "        outputlayer = sigmoid(np.dot(hidden,W_hiddenToOutput))\n",
    "\n",
    "\n",
    "        # calculate the loss value\n",
    "        outputlayer_error = y - outputlayer\n",
    "        outputlayer_deltas.append((outputlayer_error)*sigmoid_derivative(outputlayer)*(-1))\n",
    "        Error = ((outputlayer_error)**2)/2\n",
    "        \n",
    "        \n",
    "\n",
    "        # decode estimate \n",
    "        # print(\"The OutputLayer (binary version): \",outputlayer[0][0])\n",
    "        d[binary_dim - position - 1] = np.round(outputlayer[0][0])\n",
    "        \n",
    "        # store hidden layer foro BPTT\n",
    "        hidden_values.append(hidden)\n",
    "\n",
    "    # generate an array to store the hidden and hidden_delta at t + 1 for BPTT\n",
    "    future_hidden_delta = np.zeros(hidden_dim)\n",
    "    future_hidden = np.zeros(hidden_dim)\n",
    "\n",
    "    for position in range(binary_dim):\n",
    "        X = np.array([[a[position],b[position]]])\n",
    "        hidden = hidden_values[-position-1]\n",
    "        prev_hidden = hidden_values[-position-2]\n",
    "        \n",
    "        # error at output layer\n",
    "        outputlayer_delta = outputlayer_deltas[-position-1]\n",
    "        \n",
    "        # error at hidden layer * sigmoid_derivative(future_hidden)\n",
    "        hidden_delta = (future_hidden_delta.dot(W_hiddenTohidden.T) * sigmoid_derivative(future_hidden) + outputlayer_delta.dot(W_hiddenToOutput.T)) * sigmoid_derivative(hidden)\n",
    "\n",
    "        # update all weights \n",
    "        W_hiddenToOutput_update += np.atleast_2d(hidden).T.dot(outputlayer_delta)\n",
    "        W_hiddenTohidden_update += np.atleast_2d(prev_hidden).T.dot(hidden_delta) \n",
    "        W_inputtohidden_update += X.T.dot(hidden_delta) \n",
    "        future_hidden_delta = hidden_delta\n",
    "        future_hidden = hidden\n",
    "    \n",
    "    W_inputtohidden -= W_inputtohidden_update * lr\n",
    "    W_hiddenToOutput -= W_hiddenToOutput_update * lr\n",
    "    W_hiddenTohidden -= W_hiddenTohidden_update * lr\n",
    "\n",
    "    W_inputtohidden_update *= 0\n",
    "    W_hiddenToOutput_update *= 0\n",
    "    W_hiddenTohidden_update *= 0\n",
    "\n",
    "\n",
    "    correct = 0\n",
    "    wrong = 0\n",
    "    for i in range(binary_dim):\n",
    "        if d[i]==c[i]:\n",
    "            correct += 1\n",
    "        else:\n",
    "            wrong += 1\n",
    "    accuracy = correct / binary_dim *100\n",
    "    overallError = wrong / binary_dim * 100\n",
    "    if j%100 == 0:\n",
    "        Acc.append(accuracy)\n",
    "        allError.append(overallError)\n",
    "\n",
    "\n",
    "\n",
    "    # print out result\n",
    "    if(j %1000 == 0):\n",
    "        print(\"epoch\",j)\n",
    "        print(\"Pred:\" , d)\n",
    "        print(\"True:\" ,c)\n",
    "        out = 0\n",
    "        for index,x in enumerate(reversed(d)):\n",
    "            out += x*pow(2,index)\n",
    "        print(a_int, \" + \",b_int,\" = \",out)\n",
    "        print(\"Error:\",overallError)\n",
    "        print(\"accuracy =\", accuracy,\"%\")\n",
    "        print(\"------------\")"
   ]
  },
  {
   "cell_type": "markdown",
   "metadata": {},
   "source": [
    "# Plotting\n",
    "\n",
    "Let's plot our result : Loss and Accuracy during training process"
   ]
  },
  {
   "cell_type": "code",
   "execution_count": 7,
   "metadata": {},
   "outputs": [
    {
     "data": {
      "image/png": "[encoded data removed]",
      "text/plain": [
       "<Figure size 504x360 with 1 Axes>"
      ]
     },
     "metadata": {
      "needs_background": "light"
     },
     "output_type": "display_data"
    },
    {
     "data": {
      "image/png": "[encoded data removed]",
      "text/plain": [
       "<Figure size 504x360 with 1 Axes>"
      ]
     },
     "metadata": {
      "needs_background": "light"
     },
     "output_type": "display_data"
    }
   ],
   "source": [
    "fig = plt.figure(figsize=(7,5))\n",
    "epoch = np.arange(0,20000,100)\n",
    "plt.plot(epoch,Acc,linestyle=\"solid\")\n",
    "plt.xlabel(\"Epoch\",fontsize=16)\n",
    "plt.ylabel(\"Accuracy (%)\",fontsize=16)\n",
    "plt.title(\"\\nRecurrent Neural Network\",fontsize=18)\n",
    "plt.savefig('/Users/vincent/Desktop/RNN_Acc.png')\n",
    "plt.show()\n",
    "\n",
    "fig = plt.figure(figsize=(7,5))\n",
    "epoch = np.arange(0,20000,100)\n",
    "plt.plot(epoch,allError,linestyle=\"solid\")\n",
    "plt.xlabel(\"Epoch\",fontsize=16)\n",
    "plt.ylabel(\"loss (%)\",fontsize=16)\n",
    "plt.title(\"\\nRecurrent Neural Network\",fontsize=18)\n",
    "plt.savefig('/Users/vincent/Desktop/RNN_Loss.png')\n",
    "plt.show()"
   ]
  },
  {
   "cell_type": "code",
   "execution_count": null,
   "metadata": {},
   "outputs": [],
   "source": []
  }
 ],
 "metadata": {
  "kernelspec": {
   "display_name": "Python 3",
   "language": "python",
   "name": "python3"
  },
  "language_info": {
   "codemirror_mode": {
    "name": "ipython",
    "version": 3
   },
   "file_extension": ".py",
   "mimetype": "text/x-python",
   "name": "python",
   "nbconvert_exporter": "python",
   "pygments_lexer": "ipython3",
   "version": "3.7.1"
  }
 },
 "nbformat": 4,
 "nbformat_minor": 2
}
